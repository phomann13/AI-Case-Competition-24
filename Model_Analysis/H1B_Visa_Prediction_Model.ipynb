{
  "nbformat": 4,
  "nbformat_minor": 0,
  "metadata": {
    "colab": {
      "provenance": [],
      "machine_shape": "hm",
      "gpuType": "T4"
    },
    "kernelspec": {
      "name": "python3",
      "display_name": "Python 3"
    },
    "language_info": {
      "name": "python"
    },
    "accelerator": "GPU"
  },
  "cells": [
    {
      "cell_type": "code",
      "execution_count": null,
      "metadata": {
        "colab": {
          "base_uri": "https://localhost:8080/"
        },
        "id": "m0yCaPnmWt6Q",
        "outputId": "01c988e7-06c8-494b-c091-e152b347a6a5"
      },
      "outputs": [
        {
          "output_type": "stream",
          "name": "stdout",
          "text": [
            "Mounted at /content/drive\n"
          ]
        }
      ],
      "source": [
        "from google.colab import drive\n",
        "drive.mount('/content/drive')\n",
        "\n",
        "import pandas as pd"
      ]
    },
    {
      "cell_type": "code",
      "source": [
        "folder_path = \"/content/drive/MyDrive/UMD_AI_CASE_COMP/H1B_Visa_Data/\"\n",
        "dfs = {}  # Dictionary to store DataFrames\n",
        "\n",
        "for year in range(2018, 2024):\n",
        "    file_path = folder_path + f\"PERM_FY{year}.xlsx\"\n",
        "    df = pd.read_excel(file_path)\n",
        "    df['year'] = year  # Add year column\n",
        "    dfs[year] = df  # Store DataFrame in dictionary"
      ],
      "metadata": {
        "id": "8QS-FMNserNY"
      },
      "execution_count": null,
      "outputs": []
    },
    {
      "source": [
        "merge_cols = ['CASE_STATUS', 'CLASS_OF_ADMISSION', 'COUNTRY_OF_CITIZENSHIP',\n",
        "              'EMPLOYER_CITY', 'EMPLOYER_NAME', 'EMPLOYER_STATE', 'JOB_TITLE',\n",
        "              'PW_WAGE', 'PW_UNIT_OF_PAY', 'PW_WAGE_SOURCE','PW_SOC_CODE', 'year']\n",
        "\n",
        "for year, df in dfs.items():\n",
        "    missing_cols = set(merge_cols) - set(df.columns)\n",
        "    if missing_cols:\n",
        "        print(f\"DataFrame for year {year} is missing these columns: {missing_cols}\")\n",
        "    else:\n",
        "        print(f\"DataFrame for year {year} contains all merge columns.\")"
      ],
      "cell_type": "code",
      "metadata": {
        "colab": {
          "base_uri": "https://localhost:8080/"
        },
        "id": "SI2q2UzOAmog",
        "outputId": "b00e1f7f-1321-436d-d06f-9f6748332ca5"
      },
      "execution_count": null,
      "outputs": [
        {
          "output_type": "stream",
          "name": "stdout",
          "text": [
            "DataFrame for year 2018 is missing these columns: {'PW_WAGE_SOURCE', 'PW_WAGE', 'JOB_TITLE', 'PW_UNIT_OF_PAY'}\n",
            "DataFrame for year 2019 is missing these columns: {'PW_WAGE_SOURCE', 'PW_WAGE', 'JOB_TITLE', 'PW_UNIT_OF_PAY'}\n",
            "DataFrame for year 2020 is missing these columns: {'EMPLOYER_STATE'}\n",
            "DataFrame for year 2021 is missing these columns: {'EMPLOYER_STATE'}\n",
            "DataFrame for year 2022 is missing these columns: {'EMPLOYER_STATE'}\n",
            "DataFrame for year 2023 is missing these columns: {'EMPLOYER_STATE'}\n"
          ]
        }
      ]
    },
    {
      "cell_type": "code",
      "source": [
        "for year in range(2020, 2024):\n",
        "  dfs[year].rename(columns={'EMPLOYER_STATE_PROVINCE': 'EMPLOYER_STATE'}, inplace=True)"
      ],
      "metadata": {
        "id": "ywXo_zoSFHyR"
      },
      "execution_count": null,
      "outputs": []
    },
    {
      "cell_type": "code",
      "source": [
        "for year in range(2018, 2020):\n",
        "  dfs[year].rename(columns={'PW_UNIT_OF_PAY_9089': 'PW_UNIT_OF_PAY'}, inplace=True)\n",
        "  dfs[year].rename(columns={'JOB_INFO_JOB_TITLE': 'JOB_TITLE'}, inplace=True)\n",
        "  dfs[year].rename(columns={'PW_SOURCE_NAME_9089': 'PW_WAGE_SOURCE'}, inplace=True)\n",
        "  dfs[year].rename(columns={'PW_AMOUNT_9089': 'PW_WAGE'}, inplace=True)"
      ],
      "metadata": {
        "id": "7h87A_Dp9y0v"
      },
      "execution_count": null,
      "outputs": []
    },
    {
      "cell_type": "code",
      "source": [
        "dfs_tmp = dfs.copy()\n",
        "# Select desired columns in each DataFrame\n",
        "for year, df in dfs_tmp.items():\n",
        "    dfs_tmp[year] = df[merge_cols]\n",
        "\n",
        "# Concatenate all DataFrames into one\n",
        "combined_df = pd.concat(dfs_tmp.values(), ignore_index=True)"
      ],
      "metadata": {
        "id": "XijddhYmOMV7"
      },
      "execution_count": null,
      "outputs": []
    },
    {
      "cell_type": "code",
      "source": [
        "combined_df.year.value_counts()"
      ],
      "metadata": {
        "colab": {
          "base_uri": "https://localhost:8080/",
          "height": 304
        },
        "id": "chB4YZlRPKla",
        "outputId": "67f54074-b455-4432-95c1-357e3955d394"
      },
      "execution_count": null,
      "outputs": [
        {
          "output_type": "execute_result",
          "data": {
            "text/plain": [
              "year\n",
              "2018    119776\n",
              "2023    116427\n",
              "2021    108264\n",
              "2022    104600\n",
              "2019    102655\n",
              "2020     94019\n",
              "Name: count, dtype: int64"
            ],
            "text/html": [
              "<div>\n",
              "<style scoped>\n",
              "    .dataframe tbody tr th:only-of-type {\n",
              "        vertical-align: middle;\n",
              "    }\n",
              "\n",
              "    .dataframe tbody tr th {\n",
              "        vertical-align: top;\n",
              "    }\n",
              "\n",
              "    .dataframe thead th {\n",
              "        text-align: right;\n",
              "    }\n",
              "</style>\n",
              "<table border=\"1\" class=\"dataframe\">\n",
              "  <thead>\n",
              "    <tr style=\"text-align: right;\">\n",
              "      <th></th>\n",
              "      <th>count</th>\n",
              "    </tr>\n",
              "    <tr>\n",
              "      <th>year</th>\n",
              "      <th></th>\n",
              "    </tr>\n",
              "  </thead>\n",
              "  <tbody>\n",
              "    <tr>\n",
              "      <th>2018</th>\n",
              "      <td>119776</td>\n",
              "    </tr>\n",
              "    <tr>\n",
              "      <th>2023</th>\n",
              "      <td>116427</td>\n",
              "    </tr>\n",
              "    <tr>\n",
              "      <th>2021</th>\n",
              "      <td>108264</td>\n",
              "    </tr>\n",
              "    <tr>\n",
              "      <th>2022</th>\n",
              "      <td>104600</td>\n",
              "    </tr>\n",
              "    <tr>\n",
              "      <th>2019</th>\n",
              "      <td>102655</td>\n",
              "    </tr>\n",
              "    <tr>\n",
              "      <th>2020</th>\n",
              "      <td>94019</td>\n",
              "    </tr>\n",
              "  </tbody>\n",
              "</table>\n",
              "</div><br><label><b>dtype:</b> int64</label>"
            ]
          },
          "metadata": {},
          "execution_count": 7
        }
      ]
    },
    {
      "cell_type": "code",
      "source": [
        "combined_df.columns"
      ],
      "metadata": {
        "colab": {
          "base_uri": "https://localhost:8080/"
        },
        "id": "2Eo8HKfXPMIu",
        "outputId": "4478e359-ae45-4b6e-d09b-fd99449c9cba"
      },
      "execution_count": null,
      "outputs": [
        {
          "output_type": "execute_result",
          "data": {
            "text/plain": [
              "Index(['CASE_STATUS', 'CLASS_OF_ADMISSION', 'COUNTRY_OF_CITIZENSHIP',\n",
              "       'EMPLOYER_CITY', 'EMPLOYER_NAME', 'EMPLOYER_STATE', 'JOB_TITLE',\n",
              "       'PW_WAGE', 'PW_UNIT_OF_PAY', 'PW_WAGE_SOURCE', 'PW_SOC_CODE', 'year'],\n",
              "      dtype='object')"
            ]
          },
          "metadata": {},
          "execution_count": 8
        }
      ]
    },
    {
      "cell_type": "code",
      "source": [
        "# Keep only certified or denied visas\n",
        "combined_df = combined_df[combined_df['CASE_STATUS'].isin(['Certified', 'Denied'])]\n",
        "\n",
        "# Dropping anything not H-1B\n",
        "combined_df = combined_df[combined_df['CLASS_OF_ADMISSION'] == 'H-1B']\n",
        "\n",
        "# Dropping all empty columns\n",
        "combined_df = combined_df.dropna(axis=1, how='all');\n",
        "\n",
        "# Dropping all empty rows\n",
        "combined_df = combined_df.dropna(axis=0, how='all');"
      ],
      "metadata": {
        "id": "4y4zTxRVPoPw"
      },
      "execution_count": null,
      "outputs": []
    },
    {
      "cell_type": "code",
      "source": [
        "# Displaying number of missing values in each column\n",
        "for column in combined_df.columns:\n",
        "    print(\"Attribute '{}' contains \".format(column),  combined_df[column].isnull().sum().sum(), \" missing values\")"
      ],
      "metadata": {
        "colab": {
          "base_uri": "https://localhost:8080/"
        },
        "id": "vizhAOToPwkC",
        "outputId": "5f102863-e62f-4ece-cfb4-a9c7c0adf1dc"
      },
      "execution_count": null,
      "outputs": [
        {
          "output_type": "stream",
          "name": "stdout",
          "text": [
            "Attribute 'CASE_STATUS' contains  0  missing values\n",
            "Attribute 'CLASS_OF_ADMISSION' contains  0  missing values\n",
            "Attribute 'COUNTRY_OF_CITIZENSHIP' contains  4  missing values\n",
            "Attribute 'EMPLOYER_CITY' contains  0  missing values\n",
            "Attribute 'EMPLOYER_NAME' contains  0  missing values\n",
            "Attribute 'EMPLOYER_STATE' contains  3  missing values\n",
            "Attribute 'JOB_TITLE' contains  3  missing values\n",
            "Attribute 'PW_WAGE' contains  291  missing values\n",
            "Attribute 'PW_UNIT_OF_PAY' contains  292  missing values\n",
            "Attribute 'PW_WAGE_SOURCE' contains  290  missing values\n",
            "Attribute 'PW_SOC_CODE' contains  297  missing values\n",
            "Attribute 'year' contains  0  missing values\n"
          ]
        }
      ]
    },
    {
      "cell_type": "code",
      "source": [
        "# Displaying 15 most popular cities\n",
        "combined_df['EMPLOYER_CITY'] = combined_df['EMPLOYER_CITY'].str.upper()\n",
        "combined_df['EMPLOYER_CITY'].value_counts().head(15)"
      ],
      "metadata": {
        "colab": {
          "base_uri": "https://localhost:8080/",
          "height": 586
        },
        "id": "Y-COQC1-P_QG",
        "outputId": "ff595887-c45d-407b-f1b3-a34983c73c2f"
      },
      "execution_count": null,
      "outputs": [
        {
          "output_type": "execute_result",
          "data": {
            "text/plain": [
              "EMPLOYER_CITY\n",
              "NEW YORK         16947\n",
              "SEATTLE          14582\n",
              "SAN FRANCISCO     9257\n",
              "MOUNTAIN VIEW     8952\n",
              "SANTA CLARA       7099\n",
              "CHICAGO           6837\n",
              "SAN JOSE          6112\n",
              "REDMOND           5638\n",
              "MENLO PARK        4077\n",
              "SUNNYVALE         3970\n",
              "RICHARDSON        3876\n",
              "CUPERTINO         3608\n",
              "PHILADELPHIA      3274\n",
              "BOSTON            2829\n",
              "EDISON            2814\n",
              "Name: count, dtype: int64"
            ],
            "text/html": [
              "<div>\n",
              "<style scoped>\n",
              "    .dataframe tbody tr th:only-of-type {\n",
              "        vertical-align: middle;\n",
              "    }\n",
              "\n",
              "    .dataframe tbody tr th {\n",
              "        vertical-align: top;\n",
              "    }\n",
              "\n",
              "    .dataframe thead th {\n",
              "        text-align: right;\n",
              "    }\n",
              "</style>\n",
              "<table border=\"1\" class=\"dataframe\">\n",
              "  <thead>\n",
              "    <tr style=\"text-align: right;\">\n",
              "      <th></th>\n",
              "      <th>count</th>\n",
              "    </tr>\n",
              "    <tr>\n",
              "      <th>EMPLOYER_CITY</th>\n",
              "      <th></th>\n",
              "    </tr>\n",
              "  </thead>\n",
              "  <tbody>\n",
              "    <tr>\n",
              "      <th>NEW YORK</th>\n",
              "      <td>16947</td>\n",
              "    </tr>\n",
              "    <tr>\n",
              "      <th>SEATTLE</th>\n",
              "      <td>14582</td>\n",
              "    </tr>\n",
              "    <tr>\n",
              "      <th>SAN FRANCISCO</th>\n",
              "      <td>9257</td>\n",
              "    </tr>\n",
              "    <tr>\n",
              "      <th>MOUNTAIN VIEW</th>\n",
              "      <td>8952</td>\n",
              "    </tr>\n",
              "    <tr>\n",
              "      <th>SANTA CLARA</th>\n",
              "      <td>7099</td>\n",
              "    </tr>\n",
              "    <tr>\n",
              "      <th>CHICAGO</th>\n",
              "      <td>6837</td>\n",
              "    </tr>\n",
              "    <tr>\n",
              "      <th>SAN JOSE</th>\n",
              "      <td>6112</td>\n",
              "    </tr>\n",
              "    <tr>\n",
              "      <th>REDMOND</th>\n",
              "      <td>5638</td>\n",
              "    </tr>\n",
              "    <tr>\n",
              "      <th>MENLO PARK</th>\n",
              "      <td>4077</td>\n",
              "    </tr>\n",
              "    <tr>\n",
              "      <th>SUNNYVALE</th>\n",
              "      <td>3970</td>\n",
              "    </tr>\n",
              "    <tr>\n",
              "      <th>RICHARDSON</th>\n",
              "      <td>3876</td>\n",
              "    </tr>\n",
              "    <tr>\n",
              "      <th>CUPERTINO</th>\n",
              "      <td>3608</td>\n",
              "    </tr>\n",
              "    <tr>\n",
              "      <th>PHILADELPHIA</th>\n",
              "      <td>3274</td>\n",
              "    </tr>\n",
              "    <tr>\n",
              "      <th>BOSTON</th>\n",
              "      <td>2829</td>\n",
              "    </tr>\n",
              "    <tr>\n",
              "      <th>EDISON</th>\n",
              "      <td>2814</td>\n",
              "    </tr>\n",
              "  </tbody>\n",
              "</table>\n",
              "</div><br><label><b>dtype:</b> int64</label>"
            ]
          },
          "metadata": {},
          "execution_count": 11
        }
      ]
    },
    {
      "cell_type": "code",
      "source": [
        "import matplotlib.pyplot as plt\n",
        "import seaborn as sns\n",
        "\n",
        "# Setting plot parameters\n",
        "fig, ax = plt.subplots()\n",
        "fig.set_size_inches(13.7, 8.27)\n",
        "sns.set_context(\"paper\", rc={\"font.size\":12,\"axes.titlesize\":12,\"axes.labelsize\":12})\n",
        "sns.countplot(x='EMPLOYER_CITY', hue='year', data=combined_df, order=combined_df.EMPLOYER_CITY.value_counts().iloc[:10].index)\n",
        "plt.xticks(rotation=90)\n",
        "ax.set(xlabel='Employer city', ylabel='Number of Visa applications')"
      ],
      "metadata": {
        "colab": {
          "base_uri": "https://localhost:8080/",
          "height": 580
        },
        "id": "r4IERbZJQNry",
        "outputId": "5a77db5b-1b3c-493d-8eb5-4faa10ae29e1"
      },
      "execution_count": null,
      "outputs": [
        {
          "output_type": "execute_result",
          "data": {
            "text/plain": [
              "[Text(0.5, 0, 'Employer city'), Text(0, 0.5, 'Number of Visa applications')]"
            ]
          },
          "metadata": {},
          "execution_count": 12
        },
        {
          "output_type": "display_data",
          "data": {
            "text/plain": [
              "<Figure size 1370x827 with 1 Axes>"
            ],
            "image/png": "[encoded data removed]"
          },
          "metadata": {}
        }
      ]
    },
    {
      "source": [
        "import numpy as np\n",
        "# Group by company, count applications, and get top 10\n",
        "top_10_companies = combined_df.groupby('EMPLOYER_NAME')['EMPLOYER_CITY'].count().nlargest(10)\n",
        "\n",
        "# Create bar graph with colors and better fit\n",
        "plt.figure(figsize=(12, 6))\n",
        "colors = plt.cm.viridis(np.linspace(0, 1, len(top_10_companies))) # Generate colors from viridis colormap\n",
        "bars = plt.bar(top_10_companies.index, top_10_companies.values, color=colors) # Create bar plot with colors\n",
        "\n",
        "plt.title('Number of Visa Applications for Top 10 Companies')\n",
        "plt.xlabel('Company')\n",
        "plt.ylabel('Number of Applications')\n",
        "plt.xticks(rotation=90, ha='right')  # Rotate x-axis labels and align to the right\n",
        "plt.tight_layout()\n",
        "\n",
        "# Adjust spacing between bars\n",
        "plt.subplots_adjust(bottom=0.2)  # Increase bottom margin for x-axis labels\n",
        "\n",
        "plt.show()"
      ],
      "cell_type": "code",
      "metadata": {
        "colab": {
          "base_uri": "https://localhost:8080/",
          "height": 586
        },
        "id": "9oMT5NSrSZAb",
        "outputId": "5c9f78b4-0ed8-4bbc-b8db-6fe935856d0b"
      },
      "execution_count": null,
      "outputs": [
        {
          "output_type": "display_data",
          "data": {
            "text/plain": [
              "<Figure size 1200x600 with 1 Axes>"
            ],
            "image/png": "[encoded data removed]"
          },
          "metadata": {}
        }
      ]
    },
    {
      "cell_type": "code",
      "source": [
        "combined_df['JOB_TITLE'].value_counts()[:20]"
      ],
      "metadata": {
        "colab": {
          "base_uri": "https://localhost:8080/",
          "height": 743
        },
        "id": "MRc3B9YCSazi",
        "outputId": "77abdd5f-6ce6-47c0-8268-7d7594210685"
      },
      "execution_count": null,
      "outputs": [
        {
          "output_type": "execute_result",
          "data": {
            "text/plain": [
              "JOB_TITLE\n",
              "Software Engineer                   22310\n",
              "Software Development Engineer II     6424\n",
              "Software Developer                   5734\n",
              "Senior Software Engineer             4911\n",
              "Assistant Professor                  2497\n",
              "Technical Lead                       1768\n",
              "Software Development Engineer        1689\n",
              "SOFTWARE DEVELOPER                   1657\n",
              "Developer                            1621\n",
              "Technical Architect                  1500\n",
              "Programmer Analyst                   1477\n",
              "Sr. Software Engineer                1318\n",
              "Manager                              1180\n",
              "Senior Software Developer            1154\n",
              "Data Scientist                       1149\n",
              "Systems Analyst                      1146\n",
              "Software Developer / Analyst         1013\n",
              "Software Engineer II                  984\n",
              "Computer Systems Analyst B            936\n",
              "Associate                             846\n",
              "Name: count, dtype: int64"
            ],
            "text/html": [
              "<div>\n",
              "<style scoped>\n",
              "    .dataframe tbody tr th:only-of-type {\n",
              "        vertical-align: middle;\n",
              "    }\n",
              "\n",
              "    .dataframe tbody tr th {\n",
              "        vertical-align: top;\n",
              "    }\n",
              "\n",
              "    .dataframe thead th {\n",
              "        text-align: right;\n",
              "    }\n",
              "</style>\n",
              "<table border=\"1\" class=\"dataframe\">\n",
              "  <thead>\n",
              "    <tr style=\"text-align: right;\">\n",
              "      <th></th>\n",
              "      <th>count</th>\n",
              "    </tr>\n",
              "    <tr>\n",
              "      <th>JOB_TITLE</th>\n",
              "      <th></th>\n",
              "    </tr>\n",
              "  </thead>\n",
              "  <tbody>\n",
              "    <tr>\n",
              "      <th>Software Engineer</th>\n",
              "      <td>22310</td>\n",
              "    </tr>\n",
              "    <tr>\n",
              "      <th>Software Development Engineer II</th>\n",
              "      <td>6424</td>\n",
              "    </tr>\n",
              "    <tr>\n",
              "      <th>Software Developer</th>\n",
              "      <td>5734</td>\n",
              "    </tr>\n",
              "    <tr>\n",
              "      <th>Senior Software Engineer</th>\n",
              "      <td>4911</td>\n",
              "    </tr>\n",
              "    <tr>\n",
              "      <th>Assistant Professor</th>\n",
              "      <td>2497</td>\n",
              "    </tr>\n",
              "    <tr>\n",
              "      <th>Technical Lead</th>\n",
              "      <td>1768</td>\n",
              "    </tr>\n",
              "    <tr>\n",
              "      <th>Software Development Engineer</th>\n",
              "      <td>1689</td>\n",
              "    </tr>\n",
              "    <tr>\n",
              "      <th>SOFTWARE DEVELOPER</th>\n",
              "      <td>1657</td>\n",
              "    </tr>\n",
              "    <tr>\n",
              "      <th>Developer</th>\n",
              "      <td>1621</td>\n",
              "    </tr>\n",
              "    <tr>\n",
              "      <th>Technical Architect</th>\n",
              "      <td>1500</td>\n",
              "    </tr>\n",
              "    <tr>\n",
              "      <th>Programmer Analyst</th>\n",
              "      <td>1477</td>\n",
              "    </tr>\n",
              "    <tr>\n",
              "      <th>Sr. Software Engineer</th>\n",
              "      <td>1318</td>\n",
              "    </tr>\n",
              "    <tr>\n",
              "      <th>Manager</th>\n",
              "      <td>1180</td>\n",
              "    </tr>\n",
              "    <tr>\n",
              "      <th>Senior Software Developer</th>\n",
              "      <td>1154</td>\n",
              "    </tr>\n",
              "    <tr>\n",
              "      <th>Data Scientist</th>\n",
              "      <td>1149</td>\n",
              "    </tr>\n",
              "    <tr>\n",
              "      <th>Systems Analyst</th>\n",
              "      <td>1146</td>\n",
              "    </tr>\n",
              "    <tr>\n",
              "      <th>Software Developer / Analyst</th>\n",
              "      <td>1013</td>\n",
              "    </tr>\n",
              "    <tr>\n",
              "      <th>Software Engineer II</th>\n",
              "      <td>984</td>\n",
              "    </tr>\n",
              "    <tr>\n",
              "      <th>Computer Systems Analyst B</th>\n",
              "      <td>936</td>\n",
              "    </tr>\n",
              "    <tr>\n",
              "      <th>Associate</th>\n",
              "      <td>846</td>\n",
              "    </tr>\n",
              "  </tbody>\n",
              "</table>\n",
              "</div><br><label><b>dtype:</b> int64</label>"
            ]
          },
          "metadata": {},
          "execution_count": 14
        }
      ]
    },
    {
      "cell_type": "code",
      "source": [
        "#Converting values to lower case\n",
        "combined_df['JOB_TITLE'] = combined_df['JOB_TITLE'].str.lower()\n",
        "\n",
        "#Splitting job titles by '-'\n",
        "combined_df['JOB_TITLE'] = combined_df['JOB_TITLE'].astype(str).str.split('-').str[0]\n",
        "#Splitting job titles by 'ii'\n",
        "combined_df['JOB_TITLE'] = combined_df['JOB_TITLE'].astype(str).str.split('ii').str[0]\n",
        "#Splitting job titles by '/'\n",
        "combined_df['JOB_TITLE'] = combined_df['JOB_TITLE'].astype(str).str.split('/').str[0]\n",
        "#Removing leading and ending spaces\n",
        "combined_df['JOB_TITLE'] = combined_df['JOB_TITLE'].astype(str).str.strip()\n",
        "#Replacing \"sr.\" values with \"senior\"\n",
        "combined_df['JOB_TITLE'] = combined_df['JOB_TITLE'].str.replace('sr.', 'senior')\n",
        "#Replacing \"NaN\", \"NaT\" and \"nan\" values with np.nan\n",
        "combined_df['JOB_TITLE'].replace([\"NaN\", 'NaT','nan'], np.nan, inplace = True)\n",
        "\n",
        "\n",
        "combined_df['JOB_TITLE'].value_counts(dropna=True)[:10]"
      ],
      "metadata": {
        "colab": {
          "base_uri": "https://localhost:8080/",
          "height": 574
        },
        "id": "6UL4TVEDSpTP",
        "outputId": "0ec9021a-9ebf-4839-eca4-f5b07222f230"
      },
      "execution_count": null,
      "outputs": [
        {
          "output_type": "stream",
          "name": "stderr",
          "text": [
            "<ipython-input-15-e4bdc2cf1793>:15: FutureWarning: A value is trying to be set on a copy of a DataFrame or Series through chained assignment using an inplace method.\n",
            "The behavior will change in pandas 3.0. This inplace method will never work because the intermediate object on which we are setting values always behaves as a copy.\n",
            "\n",
            "For example, when doing 'df[col].method(value, inplace=True)', try using 'df.method({col: value}, inplace=True)' or df[col] = df[col].method(value) instead, to perform the operation inplace on the original object.\n",
            "\n",
            "\n",
            "  combined_df['JOB_TITLE'].replace([\"NaN\", 'NaT','nan'], np.nan, inplace = True)\n"
          ]
        },
        {
          "output_type": "execute_result",
          "data": {
            "text/plain": [
              "JOB_TITLE\n",
              "software engineer                25529\n",
              "software developer                9528\n",
              "software development engineer     8893\n",
              "senior software engineer          6926\n",
              "assistant professor               2775\n",
              "programmer analyst                2110\n",
              "systems analyst                   1983\n",
              "senior software developer         1953\n",
              "technical lead                    1826\n",
              "developer                         1790\n",
              "Name: count, dtype: int64"
            ],
            "text/html": [
              "<div>\n",
              "<style scoped>\n",
              "    .dataframe tbody tr th:only-of-type {\n",
              "        vertical-align: middle;\n",
              "    }\n",
              "\n",
              "    .dataframe tbody tr th {\n",
              "        vertical-align: top;\n",
              "    }\n",
              "\n",
              "    .dataframe thead th {\n",
              "        text-align: right;\n",
              "    }\n",
              "</style>\n",
              "<table border=\"1\" class=\"dataframe\">\n",
              "  <thead>\n",
              "    <tr style=\"text-align: right;\">\n",
              "      <th></th>\n",
              "      <th>count</th>\n",
              "    </tr>\n",
              "    <tr>\n",
              "      <th>JOB_TITLE</th>\n",
              "      <th></th>\n",
              "    </tr>\n",
              "  </thead>\n",
              "  <tbody>\n",
              "    <tr>\n",
              "      <th>software engineer</th>\n",
              "      <td>25529</td>\n",
              "    </tr>\n",
              "    <tr>\n",
              "      <th>software developer</th>\n",
              "      <td>9528</td>\n",
              "    </tr>\n",
              "    <tr>\n",
              "      <th>software development engineer</th>\n",
              "      <td>8893</td>\n",
              "    </tr>\n",
              "    <tr>\n",
              "      <th>senior software engineer</th>\n",
              "      <td>6926</td>\n",
              "    </tr>\n",
              "    <tr>\n",
              "      <th>assistant professor</th>\n",
              "      <td>2775</td>\n",
              "    </tr>\n",
              "    <tr>\n",
              "      <th>programmer analyst</th>\n",
              "      <td>2110</td>\n",
              "    </tr>\n",
              "    <tr>\n",
              "      <th>systems analyst</th>\n",
              "      <td>1983</td>\n",
              "    </tr>\n",
              "    <tr>\n",
              "      <th>senior software developer</th>\n",
              "      <td>1953</td>\n",
              "    </tr>\n",
              "    <tr>\n",
              "      <th>technical lead</th>\n",
              "      <td>1826</td>\n",
              "    </tr>\n",
              "    <tr>\n",
              "      <th>developer</th>\n",
              "      <td>1790</td>\n",
              "    </tr>\n",
              "  </tbody>\n",
              "</table>\n",
              "</div><br><label><b>dtype:</b> int64</label>"
            ]
          },
          "metadata": {},
          "execution_count": 15
        }
      ]
    },
    {
      "source": [
        "# Group by JOB_TITLE, count occurrences, and get top 10\n",
        "top_10_job_titles = combined_df.groupby('JOB_TITLE')['EMPLOYER_CITY'].count().nlargest(10)\n",
        "\n",
        "# Create bar graph with colors and centering\n",
        "plt.figure(figsize=(12, 6))\n",
        "colors = plt.cm.viridis(np.linspace(0, 1, len(top_10_job_titles)))\n",
        "bars = plt.bar(top_10_job_titles.index, top_10_job_titles.values, color=colors)\n",
        "\n",
        "plt.title('Top 10 Job Titles in Visa Applications')\n",
        "plt.xlabel('Job Title')\n",
        "plt.ylabel('Number of Applications')\n",
        "\n",
        "# Center x-axis labels and rotate\n",
        "plt.xticks(rotation=90, ha='center')\n",
        "\n",
        "# Adjust layout for better fit\n",
        "plt.tight_layout()\n",
        "plt.subplots_adjust(bottom=0.2)\n",
        "\n",
        "plt.show()"
      ],
      "cell_type": "code",
      "metadata": {
        "colab": {
          "base_uri": "https://localhost:8080/",
          "height": 485
        },
        "id": "CL6iSYY3TSKN",
        "outputId": "6d5b863a-e81c-49de-d944-549363b42398"
      },
      "execution_count": null,
      "outputs": [
        {
          "output_type": "display_data",
          "data": {
            "text/plain": [
              "<Figure size 1200x600 with 1 Axes>"
            ],
            "image/png": "[encoded data removed]"
          },
          "metadata": {}
        }
      ]
    },
    {
      "source": [
        "# Group by country and case status, then count occurrences\n",
        "country_status_counts = combined_df.groupby(['COUNTRY_OF_CITIZENSHIP', 'CASE_STATUS'])['EMPLOYER_CITY'].count().unstack()\n",
        "\n",
        "# Get top 10 countries overall\n",
        "top_10_countries = country_status_counts.sum(axis=1).nlargest(10).index\n",
        "\n",
        "# Filter data for top 10 countries\n",
        "country_status_counts = country_status_counts.loc[top_10_countries]\n",
        "\n",
        "# Create bar graph with colors and centering\n",
        "fig, ax = plt.subplots(figsize=(12, 6))\n",
        "width = 0.35  # Width of the bars\n",
        "x = np.arange(len(country_status_counts.index))  # the label locations\n",
        "\n",
        "# Create bars for 'Certified' and 'Denied' side-by-side\n",
        "certified_bars = ax.bar(x - width/2, country_status_counts['Certified'], width, label='Certified', color='green')\n",
        "denied_bars = ax.bar(x + width/2, country_status_counts['Denied'], width, label='Denied', color='red')\n",
        "\n",
        "# Set labels, title, and legend\n",
        "ax.set_xlabel('Country of Citizenship')\n",
        "ax.set_ylabel('Number of Applications')\n",
        "ax.set_title('Certified vs. Denied Visa Applications for Top 10 Countries')\n",
        "ax.set_xticks(x)\n",
        "ax.set_xticklabels(country_status_counts.index)\n",
        "ax.legend()\n",
        "\n",
        "# Rotate and center x-axis labels\n",
        "plt.xticks(rotation=90, ha='center')\n",
        "\n",
        "# Adjust layout for better fit\n",
        "plt.tight_layout()\n",
        "plt.subplots_adjust(bottom=0.2)\n",
        "\n",
        "plt.show()"
      ],
      "cell_type": "code",
      "metadata": {
        "colab": {
          "base_uri": "https://localhost:8080/",
          "height": 429
        },
        "id": "Uq1lxipMUnbW",
        "outputId": "ec15859f-1edb-44d9-9ac8-ee8fa7c0c7e7"
      },
      "execution_count": null,
      "outputs": [
        {
          "output_type": "display_data",
          "data": {
            "text/plain": [
              "<Figure size 1200x600 with 1 Axes>"
            ],
            "image/png": "[encoded data removed]"
          },
          "metadata": {}
        }
      ]
    },
    {
      "cell_type": "code",
      "source": [
        "combined_df[['PW_WAGE', 'PW_UNIT_OF_PAY']].head(10)"
      ],
      "metadata": {
        "colab": {
          "base_uri": "https://localhost:8080/",
          "height": 363
        },
        "id": "LW2LXf2fTq4n",
        "outputId": "80f764a3-da21-4f67-be0d-60f798875a75"
      },
      "execution_count": null,
      "outputs": [
        {
          "output_type": "execute_result",
          "data": {
            "text/plain": [
              "        PW_WAGE PW_UNIT_OF_PAY\n",
              "367  130,333.00           Year\n",
              "629   75,795.00           Year\n",
              "630   73,944.00           Year\n",
              "647   80,309.00           Year\n",
              "669   68,931.00           Year\n",
              "676  102,100.00           Year\n",
              "679   39,354.00           Year\n",
              "681   89,482.00           Year\n",
              "686   84,926.00           Year\n",
              "690   54,766.00           Year"
            ],
            "text/html": [
              "\n",
              "  <div id=\"df-00469427-77d6-4d25-a43a-365d2aad1f3c\" class=\"colab-df-container\">\n",
              "    <div>\n",
              "<style scoped>\n",
              "    .dataframe tbody tr th:only-of-type {\n",
              "        vertical-align: middle;\n",
              "    }\n",
              "\n",
              "    .dataframe tbody tr th {\n",
              "        vertical-align: top;\n",
              "    }\n",
              "\n",
              "    .dataframe thead th {\n",
              "        text-align: right;\n",
              "    }\n",
              "</style>\n",
              "<table border=\"1\" class=\"dataframe\">\n",
              "  <thead>\n",
              "    <tr style=\"text-align: right;\">\n",
              "      <th></th>\n",
              "      <th>PW_WAGE</th>\n",
              "      <th>PW_UNIT_OF_PAY</th>\n",
              "    </tr>\n",
              "  </thead>\n",
              "  <tbody>\n",
              "    <tr>\n",
              "      <th>367</th>\n",
              "      <td>130,333.00</td>\n",
              "      <td>Year</td>\n",
              "    </tr>\n",
              "    <tr>\n",
              "      <th>629</th>\n",
              "      <td>75,795.00</td>\n",
              "      <td>Year</td>\n",
              "    </tr>\n",
              "    <tr>\n",
              "      <th>630</th>\n",
              "      <td>73,944.00</td>\n",
              "      <td>Year</td>\n",
              "    </tr>\n",
              "    <tr>\n",
              "      <th>647</th>\n",
              "      <td>80,309.00</td>\n",
              "      <td>Year</td>\n",
              "    </tr>\n",
              "    <tr>\n",
              "      <th>669</th>\n",
              "      <td>68,931.00</td>\n",
              "      <td>Year</td>\n",
              "    </tr>\n",
              "    <tr>\n",
              "      <th>676</th>\n",
              "      <td>102,100.00</td>\n",
              "      <td>Year</td>\n",
              "    </tr>\n",
              "    <tr>\n",
              "      <th>679</th>\n",
              "      <td>39,354.00</td>\n",
              "      <td>Year</td>\n",
              "    </tr>\n",
              "    <tr>\n",
              "      <th>681</th>\n",
              "      <td>89,482.00</td>\n",
              "      <td>Year</td>\n",
              "    </tr>\n",
              "    <tr>\n",
              "      <th>686</th>\n",
              "      <td>84,926.00</td>\n",
              "      <td>Year</td>\n",
              "    </tr>\n",
              "    <tr>\n",
              "      <th>690</th>\n",
              "      <td>54,766.00</td>\n",
              "      <td>Year</td>\n",
              "    </tr>\n",
              "  </tbody>\n",
              "</table>\n",
              "</div>\n",
              "    <div class=\"colab-df-buttons\">\n",
              "\n",
              "  <div class=\"colab-df-container\">\n",
              "    <button class=\"colab-df-convert\" onclick=\"convertToInteractive('df-00469427-77d6-4d25-a43a-365d2aad1f3c')\"\n",
              "            title=\"Convert this dataframe to an interactive table.\"\n",
              "            style=\"display:none;\">\n",
              "\n",
              "  <svg xmlns=\"http://www.w3.org/2000/svg\" height=\"24px\" viewBox=\"0 -960 960 960\">\n",
              "    <path d=\"M120-120v-720h720v720H120Zm60-500h600v-160H180v160Zm220 220h160v-160H400v160Zm0 220h160v-160H400v160ZM180-400h160v-160H180v160Zm440 0h160v-160H620v160ZM180-180h160v-160H180v160Zm440 0h160v-160H620v160Z\"/>\n",
              "  </svg>\n",
              "    </button>\n",
              "\n",
              "  <style>\n",
              "    .colab-df-container {\n",
              "      display:flex;\n",
              "      gap: 12px;\n",
              "    }\n",
              "\n",
              "    .colab-df-convert {\n",
              "      background-color: #E8F0FE;\n",
              "      border: none;\n",
              "      border-radius: 50%;\n",
              "      cursor: pointer;\n",
              "      display: none;\n",
              "      fill: #1967D2;\n",
              "      height: 32px;\n",
              "      padding: 0 0 0 0;\n",
              "      width: 32px;\n",
              "    }\n",
              "\n",
              "    .colab-df-convert:hover {\n",
              "      background-color: #E2EBFA;\n",
              "      box-shadow: 0px 1px 2px rgba(60, 64, 67, 0.3), 0px 1px 3px 1px rgba(60, 64, 67, 0.15);\n",
              "      fill: #174EA6;\n",
              "    }\n",
              "\n",
              "    .colab-df-buttons div {\n",
              "      margin-bottom: 4px;\n",
              "    }\n",
              "\n",
              "    [theme=dark] .colab-df-convert {\n",
              "      background-color: #3B4455;\n",
              "      fill: #D2E3FC;\n",
              "    }\n",
              "\n",
              "    [theme=dark] .colab-df-convert:hover {\n",
              "      background-color: #434B5C;\n",
              "      box-shadow: 0px 1px 3px 1px rgba(0, 0, 0, 0.15);\n",
              "      filter: drop-shadow(0px 1px 2px rgba(0, 0, 0, 0.3));\n",
              "      fill: #FFFFFF;\n",
              "    }\n",
              "  </style>\n",
              "\n",
              "    <script>\n",
              "      const buttonEl =\n",
              "        document.querySelector('#df-00469427-77d6-4d25-a43a-365d2aad1f3c button.colab-df-convert');\n",
              "      buttonEl.style.display =\n",
              "        google.colab.kernel.accessAllowed ? 'block' : 'none';\n",
              "\n",
              "      async function convertToInteractive(key) {\n",
              "        const element = document.querySelector('#df-00469427-77d6-4d25-a43a-365d2aad1f3c');\n",
              "        const dataTable =\n",
              "          await google.colab.kernel.invokeFunction('convertToInteractive',\n",
              "                                                    [key], {});\n",
              "        if (!dataTable) return;\n",
              "\n",
              "        const docLinkHtml = 'Like what you see? Visit the ' +\n",
              "          '<a target=\"_blank\" href=https://colab.research.google.com/notebooks/data_table.ipynb>data table notebook</a>'\n",
              "          + ' to learn more about interactive tables.';\n",
              "        element.innerHTML = '';\n",
              "        dataTable['output_type'] = 'display_data';\n",
              "        await google.colab.output.renderOutput(dataTable, element);\n",
              "        const docLink = document.createElement('div');\n",
              "        docLink.innerHTML = docLinkHtml;\n",
              "        element.appendChild(docLink);\n",
              "      }\n",
              "    </script>\n",
              "  </div>\n",
              "\n",
              "\n",
              "<div id=\"df-1edc99d0-3f24-482c-b918-4b6d58773d76\">\n",
              "  <button class=\"colab-df-quickchart\" onclick=\"quickchart('df-1edc99d0-3f24-482c-b918-4b6d58773d76')\"\n",
              "            title=\"Suggest charts\"\n",
              "            style=\"display:none;\">\n",
              "\n",
              "<svg xmlns=\"http://www.w3.org/2000/svg\" height=\"24px\"viewBox=\"0 0 24 24\"\n",
              "     width=\"24px\">\n",
              "    <g>\n",
              "        <path d=\"M19 3H5c-1.1 0-2 .9-2 2v14c0 1.1.9 2 2 2h14c1.1 0 2-.9 2-2V5c0-1.1-.9-2-2-2zM9 17H7v-7h2v7zm4 0h-2V7h2v10zm4 0h-2v-4h2v4z\"/>\n",
              "    </g>\n",
              "</svg>\n",
              "  </button>\n",
              "\n",
              "<style>\n",
              "  .colab-df-quickchart {\n",
              "      --bg-color: #E8F0FE;\n",
              "      --fill-color: #1967D2;\n",
              "      --hover-bg-color: #E2EBFA;\n",
              "      --hover-fill-color: #174EA6;\n",
              "      --disabled-fill-color: #AAA;\n",
              "      --disabled-bg-color: #DDD;\n",
              "  }\n",
              "\n",
              "  [theme=dark] .colab-df-quickchart {\n",
              "      --bg-color: #3B4455;\n",
              "      --fill-color: #D2E3FC;\n",
              "      --hover-bg-color: #434B5C;\n",
              "      --hover-fill-color: #FFFFFF;\n",
              "      --disabled-bg-color: #3B4455;\n",
              "      --disabled-fill-color: #666;\n",
              "  }\n",
              "\n",
              "  .colab-df-quickchart {\n",
              "    background-color: var(--bg-color);\n",
              "    border: none;\n",
              "    border-radius: 50%;\n",
              "    cursor: pointer;\n",
              "    display: none;\n",
              "    fill: var(--fill-color);\n",
              "    height: 32px;\n",
              "    padding: 0;\n",
              "    width: 32px;\n",
              "  }\n",
              "\n",
              "  .colab-df-quickchart:hover {\n",
              "    background-color: var(--hover-bg-color);\n",
              "    box-shadow: 0 1px 2px rgba(60, 64, 67, 0.3), 0 1px 3px 1px rgba(60, 64, 67, 0.15);\n",
              "    fill: var(--button-hover-fill-color);\n",
              "  }\n",
              "\n",
              "  .colab-df-quickchart-complete:disabled,\n",
              "  .colab-df-quickchart-complete:disabled:hover {\n",
              "    background-color: var(--disabled-bg-color);\n",
              "    fill: var(--disabled-fill-color);\n",
              "    box-shadow: none;\n",
              "  }\n",
              "\n",
              "  .colab-df-spinner {\n",
              "    border: 2px solid var(--fill-color);\n",
              "    border-color: transparent;\n",
              "    border-bottom-color: var(--fill-color);\n",
              "    animation:\n",
              "      spin 1s steps(1) infinite;\n",
              "  }\n",
              "\n",
              "  @keyframes spin {\n",
              "    0% {\n",
              "      border-color: transparent;\n",
              "      border-bottom-color: var(--fill-color);\n",
              "      border-left-color: var(--fill-color);\n",
              "    }\n",
              "    20% {\n",
              "      border-color: transparent;\n",
              "      border-left-color: var(--fill-color);\n",
              "      border-top-color: var(--fill-color);\n",
              "    }\n",
              "    30% {\n",
              "      border-color: transparent;\n",
              "      border-left-color: var(--fill-color);\n",
              "      border-top-color: var(--fill-color);\n",
              "      border-right-color: var(--fill-color);\n",
              "    }\n",
              "    40% {\n",
              "      border-color: transparent;\n",
              "      border-right-color: var(--fill-color);\n",
              "      border-top-color: var(--fill-color);\n",
              "    }\n",
              "    60% {\n",
              "      border-color: transparent;\n",
              "      border-right-color: var(--fill-color);\n",
              "    }\n",
              "    80% {\n",
              "      border-color: transparent;\n",
              "      border-right-color: var(--fill-color);\n",
              "      border-bottom-color: var(--fill-color);\n",
              "    }\n",
              "    90% {\n",
              "      border-color: transparent;\n",
              "      border-bottom-color: var(--fill-color);\n",
              "    }\n",
              "  }\n",
              "</style>\n",
              "\n",
              "  <script>\n",
              "    async function quickchart(key) {\n",
              "      const quickchartButtonEl =\n",
              "        document.querySelector('#' + key + ' button');\n",
              "      quickchartButtonEl.disabled = true;  // To prevent multiple clicks.\n",
              "      quickchartButtonEl.classList.add('colab-df-spinner');\n",
              "      try {\n",
              "        const charts = await google.colab.kernel.invokeFunction(\n",
              "            'suggestCharts', [key], {});\n",
              "      } catch (error) {\n",
              "        console.error('Error during call to suggestCharts:', error);\n",
              "      }\n",
              "      quickchartButtonEl.classList.remove('colab-df-spinner');\n",
              "      quickchartButtonEl.classList.add('colab-df-quickchart-complete');\n",
              "    }\n",
              "    (() => {\n",
              "      let quickchartButtonEl =\n",
              "        document.querySelector('#df-1edc99d0-3f24-482c-b918-4b6d58773d76 button');\n",
              "      quickchartButtonEl.style.display =\n",
              "        google.colab.kernel.accessAllowed ? 'block' : 'none';\n",
              "    })();\n",
              "  </script>\n",
              "</div>\n",
              "\n",
              "    </div>\n",
              "  </div>\n"
            ],
            "application/vnd.google.colaboratory.intrinsic+json": {
              "type": "dataframe",
              "summary": "{\n  \"name\": \"combined_df[['PW_WAGE', 'PW_UNIT_OF_PAY']]\",\n  \"rows\": 10,\n  \"fields\": [\n    {\n      \"column\": \"PW_WAGE\",\n      \"properties\": {\n        \"dtype\": \"string\",\n        \"num_unique_values\": 10,\n        \"samples\": [\n          \"84,926.00\",\n          \"75,795.00\",\n          \"102,100.00\"\n        ],\n        \"semantic_type\": \"\",\n        \"description\": \"\"\n      }\n    },\n    {\n      \"column\": \"PW_UNIT_OF_PAY\",\n      \"properties\": {\n        \"dtype\": \"category\",\n        \"num_unique_values\": 1,\n        \"samples\": [\n          \"Year\"\n        ],\n        \"semantic_type\": \"\",\n        \"description\": \"\"\n      }\n    }\n  ]\n}"
            }
          },
          "metadata": {},
          "execution_count": 18
        }
      ]
    },
    {
      "cell_type": "code",
      "source": [
        "import numpy as np\n",
        "import pandas as pd\n",
        "\n",
        "# Sample data for demonstration (replace with your data)\n",
        "# combined_df = pd.read_csv('your_data.csv')\n",
        "\n",
        "# Step 1: Replace commas in PW_WAGE column\n",
        "combined_df['PW_WAGE'] = combined_df['PW_WAGE'].str.replace(\",\", \"\")\n",
        "\n",
        "# Step 2: Replace non-numeric placeholders with NaN\n",
        "combined_df['PW_WAGE'] = combined_df['PW_WAGE'].replace('#############', np.nan)\n",
        "\n",
        "# Step 3: Strip whitespace and ensure clean numeric conversion\n",
        "combined_df['PW_WAGE'] = combined_df['PW_WAGE'].str.strip()\n",
        "\n",
        "# Step 4: Convert PW_WAGE to numeric, setting any remaining issues to NaN\n",
        "combined_df['PW_WAGE'] = pd.to_numeric(combined_df['PW_WAGE'], errors='coerce')\n",
        "\n",
        "# Step 5: Convert PW_UNIT_OF_PAY rates to annual if not already, applying conversion logic\n",
        "for unit in combined_df['PW_UNIT_OF_PAY'].unique():\n",
        "    if unit in [\"hr\", \"Hour\"]:\n",
        "        combined_df.loc[combined_df['PW_UNIT_OF_PAY'] == unit, 'PW_WAGE'] *= 8 * 250\n",
        "        combined_df.loc[combined_df['PW_UNIT_OF_PAY'] == unit, 'PW_UNIT_OF_PAY'] = \"Year\"\n",
        "    elif unit in [\"wk\", \"Week\"]:\n",
        "        combined_df.loc[combined_df['PW_UNIT_OF_PAY'] == unit, 'PW_WAGE'] *= 50\n",
        "        combined_df.loc[combined_df['PW_UNIT_OF_PAY'] == unit, 'PW_UNIT_OF_PAY'] = \"Year\"\n",
        "    elif unit in [\"mth\", \"Month\"]:\n",
        "        combined_df.loc[combined_df['PW_UNIT_OF_PAY'] == unit, 'PW_WAGE'] *= 12\n",
        "        combined_df.loc[combined_df['PW_UNIT_OF_PAY'] == unit, 'PW_UNIT_OF_PAY'] = \"Year\"\n",
        "    elif unit in [\"bi\", \"Bi-Weekly\"]:\n",
        "        combined_df.loc[combined_df['PW_UNIT_OF_PAY'] == unit, 'PW_WAGE'] *= 25\n",
        "        combined_df.loc[combined_df['PW_UNIT_OF_PAY'] == unit, 'PW_UNIT_OF_PAY'] = \"Year\"\n",
        "    elif unit in [\"yr\", \"Year\"]:\n",
        "        combined_df.loc[combined_df['PW_UNIT_OF_PAY'] == unit, 'PW_UNIT_OF_PAY'] = \"Year\"\n",
        "    else:\n",
        "        continue\n",
        "\n",
        "# Step 6: Fill missing PW_WAGE values with the median\n",
        "combined_df['PW_WAGE'] = combined_df['PW_WAGE'].fillna(combined_df['PW_WAGE'].median())\n",
        "\n",
        "# Step 7: Ensure PW_WAGE is in float format\n",
        "combined_df['PW_WAGE'] = combined_df['PW_WAGE'].astype(float)\n",
        "\n",
        "# Display the first 10 rows to verify\n",
        "print(combined_df[['PW_WAGE', 'PW_UNIT_OF_PAY']].head(10))\n"
      ],
      "metadata": {
        "colab": {
          "base_uri": "https://localhost:8080/"
        },
        "id": "mY_HPtUSW2N2",
        "outputId": "3c885926-bbbe-4859-d9fe-e6eca6c4b257"
      },
      "execution_count": null,
      "outputs": [
        {
          "output_type": "stream",
          "name": "stdout",
          "text": [
            "      PW_WAGE PW_UNIT_OF_PAY\n",
            "367  130333.0           Year\n",
            "629   75795.0           Year\n",
            "630   73944.0           Year\n",
            "647   80309.0           Year\n",
            "669   68931.0           Year\n",
            "676  102100.0           Year\n",
            "679   39354.0           Year\n",
            "681   89482.0           Year\n",
            "686   84926.0           Year\n",
            "690   54766.0           Year\n"
          ]
        }
      ]
    },
    {
      "cell_type": "code",
      "source": [
        "with pd.option_context('float_format', '{:.2f}'.format): print(combined_df.PW_WAGE.describe())"
      ],
      "metadata": {
        "colab": {
          "base_uri": "https://localhost:8080/"
        },
        "id": "-0tXKEhgYBYU",
        "outputId": "1371e514-2bbe-4fd7-9fdf-14743cd41c88"
      },
      "execution_count": null,
      "outputs": [
        {
          "output_type": "stream",
          "name": "stdout",
          "text": [
            "count      239392.00\n",
            "mean        99514.30\n",
            "std        272306.04\n",
            "min         16820.00\n",
            "25%         98488.00\n",
            "50%         98488.00\n",
            "75%         98488.00\n",
            "max     120972000.00\n",
            "Name: PW_WAGE, dtype: float64\n"
          ]
        }
      ]
    },
    {
      "cell_type": "code",
      "source": [
        "#Dividing our continuous income values into some categories to facilitate their visualization\n",
        "combined_df['remuneration'] = pd.cut(combined_df['PW_WAGE'], [0, 30000, 60000,90000,120000,150000,180000,210000,240000,270000,495748000], right=False, labels=[\"0-30k\", \"30-60k\",\"60-90k\",\"90-120k\",\"120-150k\",\"150-180k\",\"180-210k\",\"210-240k\",\"240-270k\",\"270k+\"])\n",
        "salary = combined_df['remuneration'].value_counts()\n",
        "salary.iloc[np.argsort(salary.index)]"
      ],
      "metadata": {
        "colab": {
          "base_uri": "https://localhost:8080/",
          "height": 429
        },
        "id": "Ki8pUBJNYX25",
        "outputId": "481f6df5-ec50-4cad-a066-1037388cf5b3"
      },
      "execution_count": null,
      "outputs": [
        {
          "output_type": "execute_result",
          "data": {
            "text/plain": [
              "remuneration\n",
              "0-30k          188\n",
              "30-60k        7554\n",
              "60-90k       26587\n",
              "90-120k     186460\n",
              "120-150k     14280\n",
              "150-180k      3049\n",
              "180-210k       963\n",
              "210-240k       221\n",
              "240-270k        78\n",
              "270k+           12\n",
              "Name: count, dtype: int64"
            ],
            "text/html": [
              "<div>\n",
              "<style scoped>\n",
              "    .dataframe tbody tr th:only-of-type {\n",
              "        vertical-align: middle;\n",
              "    }\n",
              "\n",
              "    .dataframe tbody tr th {\n",
              "        vertical-align: top;\n",
              "    }\n",
              "\n",
              "    .dataframe thead th {\n",
              "        text-align: right;\n",
              "    }\n",
              "</style>\n",
              "<table border=\"1\" class=\"dataframe\">\n",
              "  <thead>\n",
              "    <tr style=\"text-align: right;\">\n",
              "      <th></th>\n",
              "      <th>count</th>\n",
              "    </tr>\n",
              "    <tr>\n",
              "      <th>remuneration</th>\n",
              "      <th></th>\n",
              "    </tr>\n",
              "  </thead>\n",
              "  <tbody>\n",
              "    <tr>\n",
              "      <th>0-30k</th>\n",
              "      <td>188</td>\n",
              "    </tr>\n",
              "    <tr>\n",
              "      <th>30-60k</th>\n",
              "      <td>7554</td>\n",
              "    </tr>\n",
              "    <tr>\n",
              "      <th>60-90k</th>\n",
              "      <td>26587</td>\n",
              "    </tr>\n",
              "    <tr>\n",
              "      <th>90-120k</th>\n",
              "      <td>186460</td>\n",
              "    </tr>\n",
              "    <tr>\n",
              "      <th>120-150k</th>\n",
              "      <td>14280</td>\n",
              "    </tr>\n",
              "    <tr>\n",
              "      <th>150-180k</th>\n",
              "      <td>3049</td>\n",
              "    </tr>\n",
              "    <tr>\n",
              "      <th>180-210k</th>\n",
              "      <td>963</td>\n",
              "    </tr>\n",
              "    <tr>\n",
              "      <th>210-240k</th>\n",
              "      <td>221</td>\n",
              "    </tr>\n",
              "    <tr>\n",
              "      <th>240-270k</th>\n",
              "      <td>78</td>\n",
              "    </tr>\n",
              "    <tr>\n",
              "      <th>270k+</th>\n",
              "      <td>12</td>\n",
              "    </tr>\n",
              "  </tbody>\n",
              "</table>\n",
              "</div><br><label><b>dtype:</b> int64</label>"
            ]
          },
          "metadata": {},
          "execution_count": 21
        }
      ]
    },
    {
      "source": [
        "g = sns.catplot(x='remuneration', data=combined_df, kind=\"count\",\n",
        "                   palette=\"BuPu\", height=9, aspect=1.2) # height replaces size\n",
        "\n",
        "g.set(xlabel='Remuneration', ylabel='Number of applicants')\n",
        "plt.show() # Add plt.show() to display the plot"
      ],
      "cell_type": "code",
      "metadata": {
        "colab": {
          "base_uri": "https://localhost:8080/",
          "height": 773
        },
        "id": "JTXKCENCZX3D",
        "outputId": "18b1cfa7-98ea-4aec-eb0a-7b5095408aad"
      },
      "execution_count": null,
      "outputs": [
        {
          "output_type": "stream",
          "name": "stderr",
          "text": [
            "<ipython-input-22-73d7a57fd4dc>:1: FutureWarning: \n",
            "\n",
            "Passing `palette` without assigning `hue` is deprecated and will be removed in v0.14.0. Assign the `x` variable to `hue` and set `legend=False` for the same effect.\n",
            "\n",
            "  g = sns.catplot(x='remuneration', data=combined_df, kind=\"count\",\n"
          ]
        },
        {
          "output_type": "display_data",
          "data": {
            "text/plain": [
              "<Figure size 1080x900 with 1 Axes>"
            ],
            "image/png": "[encoded data removed]"
          },
          "metadata": {}
        }
      ]
    },
    {
      "cell_type": "code",
      "source": [
        "combined_df.loc[combined_df.CASE_STATUS == 'Certified', 'CASE_STATUS'] = 1\n",
        "combined_df.loc[combined_df.CASE_STATUS == 'Denied', 'CASE_STATUS'] = 0\n",
        "\n",
        "#Filling missing values in \"EMPLOYER_STATE\" column with mode\n",
        "combined_df['EMPLOYER_STATE'] = combined_df['EMPLOYER_STATE'].fillna(combined_df['EMPLOYER_STATE'].mode()[0]);\n",
        "\n",
        "#Mapping from state name to abbreviation\n",
        "state_abbrevs = {\n",
        "    'Alabama': 'AL',\n",
        "    'Alaska': 'AK',\n",
        "    'Arizona': 'AZ',\n",
        "    'Arkansas': 'AR',\n",
        "    'California': 'CA',\n",
        "    'Colorado': 'CO',\n",
        "    'Connecticut': 'CT',\n",
        "    'Delaware': 'DE',\n",
        "    'Florida': 'FL',\n",
        "    'Georgia': 'GA',\n",
        "    'Hawaii': 'HI',\n",
        "    'Idaho': 'ID',\n",
        "    'Illinois': 'IL',\n",
        "    'Indiana': 'IN',\n",
        "    'Iowa': 'IA',\n",
        "    'Kansas': 'KS',\n",
        "    'Kentucky': 'KY',\n",
        "    'Louisiana': 'LA',\n",
        "    'Maine': 'ME',\n",
        "    'Maryland': 'MD',\n",
        "    'Massachusetts': 'MA',\n",
        "    'Michigan': 'MI',\n",
        "    'Minnesota': 'MN',\n",
        "    'Mississippi': 'MS',\n",
        "    'Missouri': 'MO',\n",
        "    'Montana': 'MT',\n",
        "    'Nebraska': 'NE',\n",
        "    'Nevada': 'NV',\n",
        "    'New Hampshire': 'NH',\n",
        "    'New Jersey': 'NJ',\n",
        "    'New Mexico': 'NM',\n",
        "    'New York': 'NY',\n",
        "    'North Carolina': 'NC',\n",
        "    'North Dakota': 'ND',\n",
        "    'Ohio': 'OH',\n",
        "    'Oklahoma': 'OK',\n",
        "    'Oregon': 'OR',\n",
        "    'Pennsylvania': 'PA',\n",
        "    'Rhode Island': 'RI',\n",
        "    'South Carolina': 'SC',\n",
        "    'South Dakota': 'SD',\n",
        "    'Tennessee': 'TN',\n",
        "    'Texas': 'TX',\n",
        "    'Utah': 'UT',\n",
        "    'Vermont': 'VT',\n",
        "    'Virginia': 'VA',\n",
        "    'Washington': 'WA',\n",
        "    'West Virginia': 'WV',\n",
        "    'Wisconsin': 'WI',\n",
        "    'Wyoming': 'WY',\n",
        "    'Northern Mariana Islands':'MP',\n",
        "    'Palau': 'PW',\n",
        "    'Puerto Rico': 'PR',\n",
        "    'Virgin Islands': 'VI',\n",
        "    'District of Columbia': 'DC'\n",
        "}\n",
        "\n",
        "#Capitalizing Keys\n",
        "us_state_abbrev = {k.upper(): v for k, v in state_abbrevs.items()}\n",
        "combined_df['EMPLOYER_STATE'].replace(us_state_abbrev, inplace=True)\n",
        "combined_df.EMPLOYER_STATE = combined_df.EMPLOYER_STATE.astype(str)"
      ],
      "metadata": {
        "colab": {
          "base_uri": "https://localhost:8080/"
        },
        "id": "WvXBbx-gZP8l",
        "outputId": "9759539c-6490-4aee-ce64-ea0073e680bc"
      },
      "execution_count": null,
      "outputs": [
        {
          "output_type": "stream",
          "name": "stderr",
          "text": [
            "<ipython-input-23-85a2526bec25>:68: FutureWarning: A value is trying to be set on a copy of a DataFrame or Series through chained assignment using an inplace method.\n",
            "The behavior will change in pandas 3.0. This inplace method will never work because the intermediate object on which we are setting values always behaves as a copy.\n",
            "\n",
            "For example, when doing 'df[col].method(value, inplace=True)', try using 'df.method({col: value}, inplace=True)' or df[col] = df[col].method(value) instead, to perform the operation inplace on the original object.\n",
            "\n",
            "\n",
            "  combined_df['EMPLOYER_STATE'].replace(us_state_abbrev, inplace=True)\n"
          ]
        }
      ]
    },
    {
      "cell_type": "code",
      "source": [
        "combined_df['PW_SOC_CODE'] = combined_df['PW_SOC_CODE'].str.replace('.','')\n",
        "combined_df['PW_SOC_CODE'] = combined_df['PW_SOC_CODE'].str.replace('-','')\n",
        "combined_df['PW_SOC_CODE'] = combined_df['PW_SOC_CODE'].astype(str).str[0:6]\n",
        "combined_df['PW_SOC_CODE'].value_counts()\n",
        "\n",
        "#Finding \"nan\" values in \"PW_SOC_CODE\" column and filling them with mode\n",
        "combined_df.loc[combined_df['PW_SOC_CODE'] == \"nan\",'PW_SOC_CODE'] = combined_df['PW_SOC_CODE'].mode()[0]\n",
        "\n",
        "#Finding \"None\" values in \"PW_SOC_CODE\" column and filling them with mode\n",
        "combined_df.loc[combined_df['PW_SOC_CODE'] == \"None\",'PW_SOC_CODE'] = combined_df['PW_SOC_CODE'].mode()[0]\n",
        "\n",
        "#Changing type from string to int\n",
        "combined_df['PW_SOC_CODE'] = combined_df['PW_SOC_CODE'].astype(int)\n",
        "combined_df['CASE_STATUS'] = combined_df['CASE_STATUS'].astype(int)"
      ],
      "metadata": {
        "id": "OCWH7VWfZvvK"
      },
      "execution_count": null,
      "outputs": []
    },
    {
      "cell_type": "code",
      "source": [
        "#Replacing missing values with mode\n",
        "combined_df['CLASS_OF_ADMISSION']=combined_df['CLASS_OF_ADMISSION'].fillna((combined_df['CLASS_OF_ADMISSION'].mode()[0]))\n",
        "combined_df['COUNTRY_OF_CITIZENSHIP']=combined_df['COUNTRY_OF_CITIZENSHIP'].fillna((combined_df['COUNTRY_OF_CITIZENSHIP'].mode()[0]))\n",
        "combined_df['EMPLOYER_CITY']=combined_df['EMPLOYER_CITY'].fillna((combined_df['EMPLOYER_CITY'].mode()[0]))\n",
        "combined_df['EMPLOYER_NAME']=combined_df['EMPLOYER_NAME'].fillna((combined_df['EMPLOYER_NAME'].mode()[0]))\n",
        "combined_df['EMPLOYER_NAME']=combined_df['EMPLOYER_NAME'].astype(str).str.upper()\n",
        "combined_df['PW_WAGE_SOURCE']=combined_df['PW_WAGE_SOURCE'].fillna((combined_df['PW_WAGE_SOURCE'].mode()[0]))\n",
        "combined_df['remuneration']=combined_df['remuneration'].fillna((combined_df['remuneration'].mode()[0]))"
      ],
      "metadata": {
        "id": "_kLDG27aZ5p_"
      },
      "execution_count": null,
      "outputs": []
    },
    {
      "cell_type": "code",
      "source": [
        "combined_df.drop(['PW_UNIT_OF_PAY','PW_WAGE', 'JOB_TITLE'], axis=1, inplace=True)"
      ],
      "metadata": {
        "id": "OPjcABchbTAO"
      },
      "execution_count": null,
      "outputs": []
    },
    {
      "cell_type": "code",
      "source": [
        "combined_df.drop(['CLASS_OF_ADMISSION'], axis=1, inplace=True)"
      ],
      "metadata": {
        "id": "pclNDSMYfjS3"
      },
      "execution_count": null,
      "outputs": []
    },
    {
      "cell_type": "code",
      "source": [
        "combined_df.info()"
      ],
      "metadata": {
        "colab": {
          "base_uri": "https://localhost:8080/"
        },
        "id": "zUQdA1_Aa8OR",
        "outputId": "aae319b0-d048-4c98-b802-32149f1dcce8"
      },
      "execution_count": null,
      "outputs": [
        {
          "output_type": "stream",
          "name": "stdout",
          "text": [
            "<class 'pandas.core.frame.DataFrame'>\n",
            "Index: 239392 entries, 367 to 645678\n",
            "Data columns (total 9 columns):\n",
            " #   Column                  Non-Null Count   Dtype   \n",
            "---  ------                  --------------   -----   \n",
            " 0   CASE_STATUS             239392 non-null  int64   \n",
            " 1   COUNTRY_OF_CITIZENSHIP  239392 non-null  object  \n",
            " 2   EMPLOYER_CITY           239392 non-null  object  \n",
            " 3   EMPLOYER_NAME           239392 non-null  object  \n",
            " 4   EMPLOYER_STATE          239392 non-null  object  \n",
            " 5   PW_WAGE_SOURCE          239392 non-null  object  \n",
            " 6   PW_SOC_CODE             239392 non-null  int64   \n",
            " 7   year                    239392 non-null  int64   \n",
            " 8   remuneration            239392 non-null  category\n",
            "dtypes: category(1), int64(3), object(5)\n",
            "memory usage: 16.7+ MB\n"
          ]
        }
      ]
    },
    {
      "cell_type": "code",
      "source": [
        "import pandas as pd\n",
        "\n",
        "# Load your dataset (replace 'your_data.csv' with your file)\n",
        "# combined_df = pd.read_csv('your_data.csv')\n",
        "\n",
        "# Create a dictionary to store unique values for each column\n",
        "unique_values = {col: combined_df[col].dropna().unique().tolist() for col in combined_df.columns}\n",
        "\n",
        "# Convert the dictionary to a DataFrame (ensure each column is the same length by filling with None)\n",
        "max_length = max(len(values) for values in unique_values.values())\n",
        "unique_values_df = pd.DataFrame({k: pd.Series(v + [None] * (max_length - len(v))) for k, v in unique_values.items()})\n",
        "\n",
        "# Save the DataFrame to a CSV file\n",
        "unique_values_df.to_csv('unique_values.csv', index=False)\n",
        "\n",
        "print(\"Unique values saved to 'unique_values.csv'.\")\n"
      ],
      "metadata": {
        "colab": {
          "base_uri": "https://localhost:8080/"
        },
        "id": "Iae0eDp1D5Xl",
        "outputId": "bfedc1de-5ff4-4d04-e7e4-7fec71e314ca"
      },
      "execution_count": null,
      "outputs": [
        {
          "output_type": "stream",
          "name": "stdout",
          "text": [
            "Unique values saved to 'unique_values.csv'.\n"
          ]
        }
      ]
    },
    {
      "cell_type": "code",
      "source": [
        "from sklearn.model_selection import train_test_split\n",
        "from sklearn.linear_model import LogisticRegression\n",
        "from sklearn.metrics import accuracy_score, classification_report, confusion_matrix\n",
        "from sklearn.preprocessing import OneHotEncoder\n",
        "from sklearn.compose import ColumnTransformer\n",
        "from sklearn.pipeline import Pipeline\n",
        "import joblib\n",
        "import numpy as np\n",
        "\n",
        "# Define features and target variable\n",
        "X = combined_df[['COUNTRY_OF_CITIZENSHIP', 'EMPLOYER_CITY',\n",
        "                 'EMPLOYER_NAME', 'EMPLOYER_STATE', 'PW_WAGE_SOURCE', 'PW_SOC_CODE',\n",
        "                 'year', 'remuneration']]\n",
        "y = combined_df['CASE_STATUS']\n",
        "\n",
        "# Identify categorical columns to one-hot encode\n",
        "categorical_cols = ['COUNTRY_OF_CITIZENSHIP', 'EMPLOYER_CITY',\n",
        "                 'EMPLOYER_NAME', 'EMPLOYER_STATE', 'PW_WAGE_SOURCE', 'PW_SOC_CODE',\n",
        "                 'year', 'remuneration']\n",
        "\n",
        "# Use ColumnTransformer to apply OneHotEncoder to categorical columns\n",
        "preprocessor = ColumnTransformer(\n",
        "    transformers=[\n",
        "        ('cat', OneHotEncoder(handle_unknown='ignore'), categorical_cols)\n",
        "    ],\n",
        "    remainder='passthrough'  # Leave other columns (like 'year', 'remuneration') as is\n",
        ")\n",
        "\n",
        "# Build a pipeline to first transform the data and then apply Logistic Regression\n",
        "pipeline = Pipeline([\n",
        "    ('preprocessor', preprocessor),\n",
        "    ('classifier', LogisticRegression(max_iter=1000))\n",
        "])\n",
        "\n",
        "# Split data into training and testing sets\n",
        "X_train, X_test, y_train, y_test = train_test_split(X, y, test_size=0.2, random_state=42)\n",
        "\n",
        "# Train the model using the pipeline\n",
        "pipeline.fit(X_train, y_train)\n",
        "\n",
        "# Make predictions on the test set\n",
        "y_pred = pipeline.predict(X_test)\n",
        "\n",
        "# Evaluate the model\n",
        "accuracy = accuracy_score(y_test, y_pred)\n",
        "print(f\"Accuracy: {accuracy}\")\n",
        "\n",
        "# Print classification report and confusion matrix for more detailed evaluation\n",
        "print(classification_report(y_test, y_pred))\n",
        "print(confusion_matrix(y_test, y_pred))\n",
        "\n",
        "# --- Prediction for 2024 ---\n",
        "\n",
        "# Use 2024 data for prediction\n",
        "data_2024 = X_test.copy()\n",
        "data_2024['year'] = 2024  # Set 'year' to 2024\n",
        "\n",
        "# Make predictions for 2024\n",
        "predictions_2024 = pipeline.predict(data_2024)\n",
        "\n",
        "# Save the pipeline (includes both the preprocessor and the model)\n",
        "joblib.dump(pipeline, 'logistic_regression_model_with_encoder.pkl')\n",
        "\n"
      ],
      "metadata": {
        "colab": {
          "base_uri": "https://localhost:8080/"
        },
        "id": "hnoHQQmGoL4y",
        "outputId": "fa5d69ed-6019-4496-9791-9dc367e85c18"
      },
      "execution_count": null,
      "outputs": [
        {
          "output_type": "stream",
          "name": "stdout",
          "text": [
            "Accuracy: 0.9641596524572359\n",
            "              precision    recall  f1-score   support\n",
            "\n",
            "           0       0.71      0.06      0.11      1778\n",
            "           1       0.96      1.00      0.98     46101\n",
            "\n",
            "    accuracy                           0.96     47879\n",
            "   macro avg       0.84      0.53      0.54     47879\n",
            "weighted avg       0.96      0.96      0.95     47879\n",
            "\n",
            "[[  104  1674]\n",
            " [   42 46059]]\n"
          ]
        },
        {
          "output_type": "execute_result",
          "data": {
            "text/plain": [
              "['logistic_regression_model_with_encoder.pkl']"
            ]
          },
          "metadata": {},
          "execution_count": 40
        }
      ]
    },
    {
      "cell_type": "code",
      "source": [
        "# Get predicted probabilities for class 1 (CASE_STATUS = 1)\n",
        "probabilities_2024 = pipeline.predict_proba(data_2024)[:, 1]\n",
        "\n",
        "# Create a DataFrame with candidate index and their probabilities\n",
        "ranked_candidates = pd.DataFrame({'Candidate_Index': data_2024.index, 'Probability_of_1': probabilities_2024})\n",
        "\n",
        "# Sort the DataFrame by probability in descending order\n",
        "ranked_candidates = ranked_candidates.sort_values(by=['Probability_of_1'], ascending=False)\n",
        "\n",
        "# Print the ranked candidates\n",
        "print(\"Ranked Candidates for 2024 (Higher probability indicates higher likelihood of CASE_STATUS = 1):\")\n",
        "print(ranked_candidates)"
      ],
      "metadata": {
        "colab": {
          "base_uri": "https://localhost:8080/"
        },
        "id": "z4CHSyxhmOOj",
        "outputId": "7b7dc7e9-f54e-40b9-de01-515c48ced8f6"
      },
      "execution_count": null,
      "outputs": [
        {
          "output_type": "stream",
          "name": "stdout",
          "text": [
            "Ranked Candidates for 2024 (Higher probability indicates higher likelihood of CASE_STATUS = 1):\n",
            "       Candidate_Index  Probability_of_1\n",
            "46296           643190          0.999736\n",
            "21457           644447          0.999676\n",
            "28643           643524          0.999660\n",
            "29099           643267          0.999660\n",
            "16183           637353          0.999615\n",
            "...                ...               ...\n",
            "36294           217024          0.072146\n",
            "19120           156288          0.072146\n",
            "24624           217021          0.072146\n",
            "18148           140192          0.065117\n",
            "44156           323288          0.055776\n",
            "\n",
            "[47879 rows x 2 columns]\n"
          ]
        }
      ]
    },
    {
      "cell_type": "code",
      "source": [
        "combined_df['PW_SOC_CODE'].unique()"
      ],
      "metadata": {
        "colab": {
          "base_uri": "https://localhost:8080/"
        },
        "id": "mLdLQtz4dXWw",
        "outputId": "bafbe437-53d9-4a3a-dfe5-709aa4f4f4c0"
      },
      "execution_count": null,
      "outputs": [
        {
          "output_type": "execute_result",
          "data": {
            "text/plain": [
              "array([151034, 151131, 151132, 112021, 131161, 172051, 193011, 172141,\n",
              "       151141, 119199, 291065, 291122, 131111, 151121, 251011, 151031,\n",
              "       271021, 291069, 419031, 119041, 151142, 111021, 113051, 172071,\n",
              "       132051, 113021, 292012, 231011, 172199, 172072, 112022, 151133,\n",
              "       132011, 119111, 252031, 172131, 113071, 273031, 291141, 191042,\n",
              "       252021, 151051, 151032, 152041, 291021, 119051, 172041, 271025,\n",
              "       292011, 291029, 252041, 172112, 172031, 173011, 536051, 172061,\n",
              "       151071, 151199, 413031, 151134, 433031, 192041, 271024, 151179,\n",
              "       271022, 291127, 111011, 259031, 113121, 132031, 132041, 113031,\n",
              "       211012, 252053, 511011, 251042, 291051, 193021, 339021, 172075,\n",
              "       131021, 253021, 131022, 131151, 272022, 119121, 516052, 439061,\n",
              "       192032, 211029, 252022, 513022, 151021, 191021, 251021, 151022,\n",
              "       131081, 151150, 192031, 131051, 251071, 251032, 171011, 119032,\n",
              "       194092, 291011, 171021, 532012, 396012, 291123, 119033, 251199,\n",
              "       291063, 151111, 254012, 131071, 152031, 192042, 211014, 251031,\n",
              "       272012, 119021, 251111, 193099, 132061, 211011, 173029, 251063,\n",
              "       253099, 273022, 191011, 252054, 252011, 191013, 291171, 252012,\n",
              "       252052, 436013, 151122, 173027, 419022, 132099, 152011, 211015,\n",
              "       251062, 251069, 171012, 251052, 151143, 291062, 251043, 291066,\n",
              "       151152, 251051, 131041, 232011, 251081, 414011, 172011, 172081,\n",
              "       273091, 259021, 191041, 113061, 173023, 194021, 119151, 251064,\n",
              "       271014, 251066, 151052, 251193, 312021, 251022, 413021, 113131,\n",
              "       132071, 291067, 151151, 192012, 212021, 172111, 273042, 273043,\n",
              "       131078, 274032, 251192, 291131, 119013, 172021, 251125, 251124,\n",
              "       112011, 251072, 211022, 291041, 132072, 131023, 251054, 499062,\n",
              "       119039, 291024, 251041, 172171, 254021, 119031, 291031, 291022,\n",
              "       291061, 251053, 191029, 251121, 132052, 251067, 251122, 191022,\n",
              "       272041, 251113, 211091, 191012, 131141, 172076, 252032, 132081,\n",
              "       352014, 251065, 271011, 211093, 172121, 194041, 151053, 193051,\n",
              "       491011, 473016, 251126, 173013, 193031, 119081, 252051, 211023,\n",
              "       299091, 113111, 439031, 434061, 254013, 151036, 291023, 433061,\n",
              "       131199, 292056, 212011, 171022, 152021, 191023, 299092, 392011,\n",
              "       299011, 131121, 151035, 273041, 251194, 173024, 194091, 193039,\n",
              "       435061, 172144, 291199, 414012, 435011, 132021, 193092, 291064,\n",
              "       292091, 211013, 193022, 319092, 251061, 472073, 434131, 291181,\n",
              "       151037, 292071, 172074, 194031, 151054, 194061, 273021, 451011,\n",
              "       193094, 291071, 391021, 192043, 193032, 259041, 132053, 399032,\n",
              "       113011, 119161, 172063, 251123, 172143, 254011, 251082, 471011,\n",
              "       132082, 351011, 291081, 436014, 253011, 112031, 211021, 151061,\n",
              "       435081, 151023, 173026, 172161, 173025, 411012, 439111, 433051,\n",
              "       474011, 434171, 194099, 391011, 131031, 271027, 439081, 131131,\n",
              "       172151, 311013, 119141, 413099, 413011, 373011, 431011, 251112,\n",
              "       292099, 434051, 193041, 352015, 436011, 411011, 259011, 191031,\n",
              "       533032, 474099, 472111, 193091, 311011, 493011, 319091, 211094,\n",
              "       319099, 131011, 131075, 519081, 351012, 173022, 173021, 172073,\n",
              "       193093, 399011, 319094, 434021, 291128, 492094, 291125, 151081,\n",
              "       292037, 292061, 452021, 172053, 339092, 252059, 192011, 353021,\n",
              "       399031, 436012, 292031, 372011, 433021, 273011, 499041, 519195,\n",
              "       519061, 191099, 531031, 434071, 291124, 292052, 192099, 518092,\n",
              "       271013, 173031, 231012, 172052, 212099, 274021, 419021, 173012,\n",
              "       452093, 452011, 192021, 271029, 259099, 194011, 492021, 191032,\n",
              "       537064, 519199, 472051, 352021, 299012, 492022, 272032, 231022,\n",
              "       434161, 319096, 352013, 393091, 151252, 151211, 151243, 151253,\n",
              "       152051, 131082, 151299, 291229, 151212, 151244, 151221, 132054,\n",
              "       151242, 291216, 352019, 291212, 291221, 151254, 519071, 112032,\n",
              "       252023, 151241, 291215, 151255, 434151, 311122, 412031])"
            ]
          },
          "metadata": {},
          "execution_count": 48
        }
      ]
    },
    {
      "cell_type": "code",
      "source": [
        "combined_df.columns"
      ],
      "metadata": {
        "colab": {
          "base_uri": "https://localhost:8080/"
        },
        "id": "_KR3JlY84LfM",
        "outputId": "ec9708ce-9b18-435a-a284-44ea9eff87a6"
      },
      "execution_count": null,
      "outputs": [
        {
          "output_type": "execute_result",
          "data": {
            "text/plain": [
              "Index(['CASE_STATUS', 'CLASS_OF_ADMISSION', 'COUNTRY_OF_CITIZENSHIP',\n",
              "       'EMPLOYER_CITY', 'EMPLOYER_NAME', 'EMPLOYER_STATE', 'PW_WAGE_SOURCE',\n",
              "       'PW_SOC_CODE', 'year', 'remuneration'],\n",
              "      dtype='object')"
            ]
          },
          "metadata": {},
          "execution_count": 38
        }
      ]
    },
    {
      "cell_type": "markdown",
      "source": [
        "# Connection to Front-End"
      ],
      "metadata": {
        "id": "Kw1hIZybm14U"
      }
    },
    {
      "cell_type": "code",
      "source": [
        "from flask import Flask, request, jsonify\n",
        "import joblib\n",
        "import pandas as pd\n",
        "\n",
        "# Load the trained model (pipeline)\n",
        "pipeline = joblib.load('logistic_regression_model_with_encoder.pkl')\n",
        "\n",
        "app = Flask(__name__)\n",
        "\n",
        "@app.route('/predict', methods=['POST'])\n",
        "def predict():\n",
        "    # Get the JSON data from the request\n",
        "    data = request.json\n",
        "\n",
        "    # Convert the input data into a DataFrame\n",
        "    df = pd.DataFrame(data)\n",
        "\n",
        "    # Make predictions using the loaded pipeline\n",
        "    predictions = pipeline.predict(df)\n",
        "\n",
        "    # Return predictions as a JSON response\n",
        "    return jsonify(predictions.tolist())\n",
        "\n",
        "if __name__ == '__main__':\n",
        "    app.run(debug=True)\n"
      ],
      "metadata": {
        "id": "O_utLIWfqc2-"
      },
      "execution_count": null,
      "outputs": []
    },
    {
      "source": [
        "<!DOCTYPE html>\n",
        "<html lang=\"en\">\n",
        "<head>\n",
        "    <meta charset=\"UTF-8\">\n",
        "    <meta name=\"viewport\" content=\"width=device-width, initial-scale=1.0\">\n",
        "    <title>Prediction App</title>\n",
        "</head>\n",
        "<body>\n",
        "    <h1>Predict CASE_STATUS</h1>\n",
        "    <form id=\"predictionForm\">\n",
        "        <label for=\"country\">Country of Citizenship:</label>\n",
        "        <input type=\"text\" id=\"country\" placeholder=\"Country of Citizenship\" required>\n",
        "        <br>\n",
        "        <label for=\"city\">Employer City:</label>\n",
        "        <input type=\"text\" id=\"city\" placeholder=\"Employer City\" required>\n",
        "        <br>\n",
        "        <label for=\"employer\">Employer Name:</label>\n",
        "        <input type=\"text\" id=\"employer\" placeholder=\"Employer Name\" required>\n",
        "        <br>\n",
        "        <label for=\"state\">Employer State:</label>\n",
        "        <input type=\"text\" id=\"state\" placeholder=\"Employer State\" required>\n",
        "        <br>\n",
        "        <label for=\"wageSource\">Wage Source:</label>\n",
        "        <input type=\"text\" id=\"wageSource\" placeholder=\"Wage Source\" required>\n",
        "        <br>\n",
        "        <label for=\"socCode\">SOC Code:</label>\n",
        "        <input type=\"text\" id=\"socCode\" placeholder=\"SOC Code\" required>\n",
        "        <br>\n",
        "        <label for=\"year\">Year:</label>\n",
        "        <input type=\"number\" id=\"year\" value=\"2024\" required>\n",
        "        <br>\n",
        "        <label for=\"remuneration\">Remuneration:</label>\n",
        "        <input type=\"number\" id=\"remuneration\" placeholder=\"Remuneration\" required>\n",
        "        <br>\n",
        "        <button type=\"submit\">Predict</button>\n",
        "    </form>\n",
        "\n",
        "    <div id=\"result\"></div>\n",
        "\n",
        "    <script>\n",
        "        document.getElementById('predictionForm').addEventListener('submit', async function(event) {\n",
        "            event.preventDefault(); // Prevent form submission\n",
        "\n",
        "            // Gather input data into an object\n",
        "            const data = {\n",
        "                COUNTRY_OF_CITIZENSHIP: document.getElementById('country').value,\n",
        "                EMPLOYER_CITY: document.getElementById('city').value,\n",
        "                EMPLOYER_NAME: document.getElementById('employer').value,\n",
        "                EMPLOYER_STATE: document.getElementById('state').value,\n",
        "                PW_WAGE_SOURCE: document.getElementById('wageSource').value,\n",
        "                PW_SOC_CODE: document.getElementById('socCode').value,\n",
        "                year: parseInt(document.getElementById('year').value),\n",
        "                remuneration: parseInt(document.getElementById('remuneration').value)\n",
        "            };\n",
        "\n",
        "            // Send a POST request to the prediction API\n",
        "            const response = await fetch('http://127.0.0.1:5000/predict', {\n",
        "                method: 'POST',\n",
        "                headers: {\n",
        "                    'Content-Type': 'application/json',\n",
        "                },\n",
        "                body: JSON.stringify([data]) // Wrap in an array for batch predictions\n",
        "            });\n",
        "\n",
        "            // Handle the response\n",
        "            const result = await response.json();\n",
        "            document.getElementById('result').innerText = `Predicted CASE_STATUS: ${result}`;\n",
        "        });\n",
        "    </script>\n",
        "</body>\n",
        "</html>\n"
      ],
      "cell_type": "code",
      "metadata": {
        "id": "CdT7eHnsmyGe"
      },
      "execution_count": null,
      "outputs": []
    }
  ]
}